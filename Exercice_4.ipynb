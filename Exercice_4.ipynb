{
 "cells": [
  {
   "cell_type": "markdown",
   "metadata": {},
   "source": [
    "# Import"
   ]
  },
  {
   "cell_type": "code",
   "execution_count": 1,
   "metadata": {},
   "outputs": [],
   "source": [
    "import numpy as np\n",
    "import scipy.stats\n",
    "import matplotlib.pyplot as plt\n",
    "from scipy import stats"
   ]
  },
  {
   "cell_type": "markdown",
   "metadata": {},
   "source": [
    "# Constant declaration"
   ]
  },
  {
   "cell_type": "code",
   "execution_count": 92,
   "metadata": {},
   "outputs": [],
   "source": [
    "spot_price = 100\n",
    "strike_price = 100\n",
    "maturity = 1.0\n",
    "volatility = 0.2\n",
    "risk_free_rate = 0.01\n",
    "nb_sequence = 100000"
   ]
  },
  {
   "cell_type": "markdown",
   "metadata": {},
   "source": [
    "# Classique Black-Scholes"
   ]
  },
  {
   "cell_type": "code",
   "execution_count": 42,
   "metadata": {},
   "outputs": [
    {
     "name": "stdout",
     "output_type": "stream",
     "text": [
      "The Call price with BS is : 8.433318690109608\n"
     ]
    }
   ],
   "source": [
    "dividend_yield = 0\n",
    "d1 = (np.log(spot_price / strike_price) + maturity * (risk_free_rate - dividend_yield + volatility ** 2 / 2)) / (volatility * np.sqrt(maturity))\n",
    "d2 = d1 - volatility * np.sqrt(maturity)\n",
    "\n",
    "bs_call_price = spot_price * np.exp(-dividend_yield * maturity) * stats.norm.cdf(d1) - strike_price * np.exp(-risk_free_rate * maturity)* stats.norm.cdf(d2)\n",
    "\n",
    "print('The Call price with BS is : {}'.format(bs_call_price))"
   ]
  },
  {
   "cell_type": "markdown",
   "metadata": {},
   "source": [
    "# Classique Monte Carlo"
   ]
  },
  {
   "cell_type": "code",
   "execution_count": 111,
   "metadata": {},
   "outputs": [
    {
     "name": "stdout",
     "output_type": "stream",
     "text": [
      "The Call price with MC is : 8.367241332161708\n"
     ]
    }
   ],
   "source": [
    "delta_t = maturity\n",
    "array_of_normal = np.random.normal(0, 1, nb_sequence)\n",
    "\n",
    "array_of_variation = ((risk_free_rate - ((volatility ** 2) / 2)) * delta_t) + (volatility * np.sqrt(delta_t)* array_of_normal)\n",
    "\n",
    "array_of_all_prices = spot_price * np.exp(array_of_variation)\n",
    "\n",
    "array_of_payoff = np.maximum(array_of_all_prices - strike_price, 0)\n",
    "\n",
    "mean_payoff = np.mean(array_of_payoff)\n",
    "\n",
    "mc_call_price = mean_payoff * np.exp(-risk_free_rate * maturity)\n",
    "\n",
    "print('The Call price with MC is : {}'.format(mc_call_price))"
   ]
  },
  {
   "cell_type": "code",
   "execution_count": 34,
   "metadata": {},
   "outputs": [
    {
     "name": "stdout",
     "output_type": "stream",
     "text": [
      "The error BS-MC = 0.236198588345081\n"
     ]
    }
   ],
   "source": [
    "print('The error BS-MC = {}'.format(bs_call_price- mc_call_price))"
   ]
  },
  {
   "cell_type": "markdown",
   "metadata": {},
   "source": [
    "# Quasi-Monte Carlo"
   ]
  },
  {
   "cell_type": "markdown",
   "metadata": {},
   "source": [
    "## Van der Corput"
   ]
  },
  {
   "cell_type": "markdown",
   "metadata": {},
   "source": [
    "#### B-ary expansion"
   ]
  },
  {
   "cell_type": "code",
   "execution_count": 113,
   "metadata": {},
   "outputs": [],
   "source": [
    "def b_ary(nb_expansion, base):\n",
    "    \"\"\"\n",
    "    Parameters\n",
    "    ----------\n",
    "    nb_expansion : array_like\n",
    "        The array of expansion series\n",
    "    base : int\n",
    "        Base of the expansion\n",
    "    Returns\n",
    "    -------\n",
    "    nb_expansion : array_like\n",
    "         The nb expansion\n",
    "    \"\"\"\n",
    "\n",
    "    #expansion = nb_expansion.copy()\n",
    "    list_index_to_increment = np.where(nb_expansion < base - 1)\n",
    "\n",
    "    if len(list_index_to_increment[0] != 0):\n",
    "        index_to_increment = list_index_to_increment[0][0]\n",
    "        nb_expansion[0:index_to_increment] = 0\n",
    "        nb_expansion[index_to_increment] += 1\n",
    "\n",
    "    else:\n",
    "        nb_expansion = nb_expansion * 0\n",
    "        nb_expansion = np.append(nb_expansion, 1)\n",
    "\n",
    "    #nb_expansion = expansion\n",
    "    return nb_expansion\n",
    "\n",
    "\n",
    "def generate_k_b_ary_expansion(k, base=10):\n",
    "    \"\"\"\n",
    "        Generate an array with k expansion\n",
    "    :param k: int\n",
    "        The number of value in the expansion\n",
    "    :param base: int\n",
    "        The base of calculation. Default : 10\n",
    "    :return: array_like\n",
    "        The array with the k expansion\n",
    "    \"\"\"\n",
    "    nb_exp = np.zeros(int(np.log(k)/np.log(base))+1)\n",
    "    k_b_ary_expansion = np.array([b_ary(nb_exp, base).copy() for i in range(k)])\n",
    "    # k_b_ary_expansion = np.array([b_ary(nb_exp, base) for i in range(k)])\n",
    "    return k_b_ary_expansion"
   ]
  },
  {
   "cell_type": "code",
   "execution_count": 114,
   "metadata": {},
   "outputs": [
    {
     "data": {
      "text/plain": [
       "array([[1., 0., 0., 0.],\n",
       "       [0., 1., 0., 0.],\n",
       "       [1., 1., 0., 0.],\n",
       "       [0., 0., 1., 0.],\n",
       "       [1., 0., 1., 0.],\n",
       "       [0., 1., 1., 0.],\n",
       "       [1., 1., 1., 0.],\n",
       "       [0., 0., 0., 1.],\n",
       "       [1., 0., 0., 1.],\n",
       "       [0., 1., 0., 1.]])"
      ]
     },
     "execution_count": 114,
     "metadata": {},
     "output_type": "execute_result"
    }
   ],
   "source": [
    "k = 10\n",
    "test_bary = generate_k_b_ary_expansion(k, 2)\n",
    "\n",
    "test_bary"
   ]
  },
  {
   "cell_type": "markdown",
   "metadata": {},
   "source": [
    "#### Van der corput sequence"
   ]
  },
  {
   "cell_type": "code",
   "execution_count": 115,
   "metadata": {},
   "outputs": [],
   "source": [
    "def van_der_corput_sequence(k, base):\n",
    "    \"\"\"\n",
    "        Calculate the van der corput sequence of k number for the base selected\n",
    "    :param k: int\n",
    "        The number of value in the expansion\n",
    "    :param base: int\n",
    "        The base of calculation. Default : 10\n",
    "    :return: array_like\n",
    "        The list of the Van Der Corput Sequences\n",
    "    \"\"\"\n",
    "    k_b_ary_expansion = generate_k_b_ary_expansion(k, base)\n",
    "    n = len(k_b_ary_expansion[-1])\n",
    "\n",
    "    bj = np.linspace(1, n, n)\n",
    "    bj = 1 / (base ** bj)\n",
    "\n",
    "    return k_b_ary_expansion.dot(bj)"
   ]
  },
  {
   "cell_type": "code",
   "execution_count": 116,
   "metadata": {},
   "outputs": [
    {
     "name": "stdout",
     "output_type": "stream",
     "text": [
      "The Van Der Corput Sequences with base 2 is :\n",
      "[0.5    0.25   0.75   0.125  0.625  0.375  0.875  0.0625 0.5625 0.3125]\n",
      "\n",
      "The Van Der Corput Sequences with base 10 is :\n",
      "[0.1  0.2  0.3  0.4  0.5  0.6  0.7  0.8  0.9  0.01]\n"
     ]
    }
   ],
   "source": [
    "    k = 10\n",
    "    base10 = 10\n",
    "    base2 = 2\n",
    "\n",
    "    test_b10 = van_der_corput_sequence(k, base10)\n",
    "    test_b2 = van_der_corput_sequence(k, base2)\n",
    "    \n",
    "    print(\"The Van Der Corput Sequences with base 2 is :\\n{}\".format(test_b2))\n",
    "    print()\n",
    "    print(\"The Van Der Corput Sequences with base 10 is :\\n{}\".format(test_b10))"
   ]
  },
  {
   "cell_type": "markdown",
   "metadata": {},
   "source": [
    "# QMC Pricing"
   ]
  },
  {
   "cell_type": "code",
   "execution_count": 148,
   "metadata": {},
   "outputs": [
    {
     "name": "stdout",
     "output_type": "stream",
     "text": [
      "The Call price with QMC is : 8.416233295212153\n"
     ]
    }
   ],
   "source": [
    "nb_sequences = 10000\n",
    "delta_t = maturity\n",
    "\n",
    "array_of_rand_VDC_seq = van_der_corput_sequence(nb_sequences, 2)\n",
    "\n",
    "array_of_normal = scipy.stats.norm.ppf(array_of_rand_VDC_seq)\n",
    "\n",
    "array_of_variation = ((risk_free_rate - ((volatility ** 2) / 2)) * delta_t) + (volatility * np.sqrt(delta_t)* array_of_normal)\n",
    "\n",
    "qmc_array_of_all_prices = spot_price * np.exp(array_of_variation)\n",
    "\n",
    "array_of_payoff = np.maximum(qmc_array_of_all_prices - strike_price, 0)\n",
    "\n",
    "mean_payoff = np.mean(array_of_payoff)\n",
    "\n",
    "qmc_call_price = mean_payoff * np.exp(-risk_free_rate * maturity)\n",
    "print('The Call price with QMC is : {}'.format(qmc_call_price))"
   ]
  },
  {
   "cell_type": "code",
   "execution_count": 119,
   "metadata": {},
   "outputs": [
    {
     "name": "stdout",
     "output_type": "stream",
     "text": [
      "The Call price with BS is : 8.433318690109608\n",
      "The Call price with MC is : 8.367241332161708\n",
      "The Call price with QMC is : 8.317019638189603\n",
      "The error BS-MC = 0.0660773579479006\n",
      "The error BS-QMC = 0.11629905192000578\n"
     ]
    }
   ],
   "source": [
    "print('The Call price with BS is : {}'.format(bs_call_price))\n",
    "print('The Call price with MC is : {}'.format(mc_call_price))\n",
    "print('The Call price with QMC is : {}'.format(qmc_call_price))\n",
    "print('The error BS-MC = {}'.format(bs_call_price- mc_call_price))\n",
    "print('The error BS-QMC = {}'.format(bs_call_price- qmc_call_price))"
   ]
  },
  {
   "cell_type": "code",
   "execution_count": 41,
   "metadata": {},
   "outputs": [
    {
     "data": {
      "image/png": "[encoded data removed]",
      "text/plain": [
       "<Figure size 432x288 with 1 Axes>"
      ]
     },
     "metadata": {
      "needs_background": "light"
     },
     "output_type": "display_data"
    }
   ],
   "source": [
    "plt.title('Price distribution under risk neutral measure with QMC method')\n",
    "plt.hist(qmc_array_of_all_prices,50)\n",
    "plt.show()"
   ]
  },
  {
   "cell_type": "markdown",
   "metadata": {},
   "source": [
    "# Importance Sampling"
   ]
  },
  {
   "cell_type": "markdown",
   "metadata": {},
   "source": [
    "#### Risk neutral measure"
   ]
  },
  {
   "cell_type": "code",
   "execution_count": null,
   "metadata": {},
   "outputs": [],
   "source": [
    "n = 10000\n",
    "S0 = 100\n",
    "K = 1000000\n",
    "T = 1.0\n",
    "sigma = 0.2\n",
    "r = 0.01\n",
    "\n",
    "u = np.random.normal(size=n)\n",
    "is_S_T = S0 * np.exp((r-sigma*sigma/2)*T+sigma*u)\n",
    "\n",
    "plt.title('Price distribution under risk neutral measure')\n",
    "plt.hist(is_S_T, 100)\n",
    "plt.show()"
   ]
  },
  {
   "cell_type": "markdown",
   "metadata": {},
   "source": [
    "#### Drifting the measure with mu"
   ]
  },
  {
   "cell_type": "code",
   "execution_count": null,
   "metadata": {},
   "outputs": [],
   "source": [
    "u = np.random.normal(size=n)\n",
    "#mu = 6.95 #(pour k = 100 000)\n",
    "mu = 9.2104  #(pour k = 1 000 000)\n",
    "is_S_T_ = S0 * np.exp((mu-sigma*sigma/2)*T+sigma*u)\n",
    "plt.title('Price distribution under mu drift measure')\n",
    "plt.hist(is_S_T_,100,color='orange')  \n",
    "plt.show()"
   ]
  },
  {
   "cell_type": "markdown",
   "metadata": {},
   "source": [
    "#### Radon-nikodym derivative"
   ]
  },
  {
   "cell_type": "code",
   "execution_count": null,
   "metadata": {},
   "outputs": [],
   "source": [
    "is_radon_nikodym_der = np.exp(-((np.log(is_S_T_/S0)-(r-sigma*sigma/2)*T)**2)/(2*sigma*sigma*T) + ((np.log(is_S_T_/S0)-(mu-sigma*sigma/2)*T)**2)/(2*sigma*sigma*T) + 500 )\n",
    "\n",
    "# Two types of Calls\n",
    "is_european_call =  np.mean(np.maximum(is_S_T_ - K ,0)*is_radon_nikodym_der)\n",
    "is_digital_call = np.mean(np.maximum(is_S_T_ - K,0)*is_radon_nikodym_der*1/(is_S_T_ - K)) \n",
    "is_ratio = is_european_call / is_digital_call\n",
    "print('### Results obtained with Importance Sampling ###')\n",
    "print('Digital Call : {}'.format(is_digital_call))\n",
    "print('European Call : {}'.format(is_european_call))\n",
    "\n",
    "\n",
    "print('Ratio value : {}'.format(is_ratio))"
   ]
  },
  {
   "cell_type": "markdown",
   "metadata": {},
   "source": [
    "# Importance Sampling with QMC"
   ]
  },
  {
   "cell_type": "markdown",
   "metadata": {},
   "source": [
    "#### Risk neutral measure"
   ]
  },
  {
   "cell_type": "code",
   "execution_count": null,
   "metadata": {},
   "outputs": [],
   "source": [
    "n = 100000\n",
    "\n",
    "array_of_rand_VDC_seq = van_der_corput_sequence(n, 2)\n",
    "u = scipy.stats.norm.ppf(array_of_rand_VDC_seq)\n",
    "S_T = S0 * np.exp((r-sigma*sigma/2)*T+sigma*u)\n",
    "\n",
    "plt.title('Price distribution under risk neutral measure with QMC')\n",
    "plt.hist(S_T, 100)\n",
    "plt.show()"
   ]
  },
  {
   "cell_type": "markdown",
   "metadata": {},
   "source": [
    "#### Drift the measure with mu"
   ]
  },
  {
   "cell_type": "code",
   "execution_count": null,
   "metadata": {},
   "outputs": [],
   "source": [
    "u = np.random.normal(size=n)\n",
    "#mu = 6.95 #(pour k = 100 000)\n",
    "mu = 9.2104  #(pour k = 1 000 000)\n",
    "qmc_is_S_T_ = S0 * np.exp((mu-sigma*sigma/2)*T+sigma*u)\n",
    "plt.title('Price distribution under mu drift measure with QMC')\n",
    "plt.hist(qmc_is_S_T_,100,color='orange')  \n",
    "plt.show()"
   ]
  },
  {
   "cell_type": "markdown",
   "metadata": {},
   "source": [
    "#### Radon-Nikodym Derivative"
   ]
  },
  {
   "cell_type": "code",
   "execution_count": null,
   "metadata": {},
   "outputs": [],
   "source": [
    "qmc_is_radon_nikodym_der = np.exp(-((np.log(qmc_is_S_T_/S0)-(r-sigma*sigma/2)*T)**2)/(2*sigma*sigma*T) + ((np.log(qmc_is_S_T_/S0)-(mu-sigma*sigma/2)*T)**2)/(2*sigma*sigma*T) + 500 )\n",
    "\n",
    "# Two types of Calls\n",
    "qmc_is_european_call =  np.mean(np.maximum(qmc_is_S_T_ - K ,0)*qmc_is_radon_nikodym_der)\n",
    "qmc_is_digital_call = np.mean(np.maximum(qmc_is_S_T_ - K,0)*qmc_is_radon_nikodym_der*1/(qmc_is_S_T_ - K)) \n",
    "qmc_is_ratio = qmc_is_european_call / qmc_is_digital_call\n",
    "print('### Results obtained with QMC in Importance Sampling ###')\n",
    "print('Digital Call : {}'.format(qmc_is_digital_call))\n",
    "print('European Call : {}'.format(qmc_is_european_call))\n",
    "\n",
    "\n",
    "print('Ratio value : {}'.format(qmc_is_ratio))"
   ]
  },
  {
   "cell_type": "code",
   "execution_count": null,
   "metadata": {},
   "outputs": [],
   "source": [
    "print('### Results obtained with Importance Sampling ###')\n",
    "print('Digital Call : {}'.format(is_digital_call))\n",
    "print('European Call : {}'.format(is_european_call))\n",
    "print('Ratio value : {}'.format(is_ratio))\n",
    "print()\n",
    "print('### Results obtained with QMC in Importance Sampling ###')\n",
    "print('Digital Call : {}'.format(qmc_is_digital_call))\n",
    "print('European Call : {}'.format(qmc_is_european_call))\n",
    "print('Ratio value : {}'.format(qmc_is_ratio))\n",
    "\n"
   ]
  },
  {
   "cell_type": "code",
   "execution_count": null,
   "metadata": {},
   "outputs": [],
   "source": [
    "is_qmc_standard_error = stats.sem(qmc_is_S_T_)\n",
    "print('Standard error of the price with the new dynamic with QMC : {}'.format(is_qmc_standard_error))"
   ]
  },
  {
   "cell_type": "code",
   "execution_count": null,
   "metadata": {},
   "outputs": [],
   "source": [
    "is_standard_error = stats.sem(is_S_T_)\n",
    "print('Standard error of the price with the new dynamic : {}'.format(is_standard_error))"
   ]
  },
  {
   "cell_type": "code",
   "execution_count": null,
   "metadata": {},
   "outputs": [],
   "source": [
    "is_standard_error = stats.sem(S_T)\n",
    "print('Standard error of the price with the new dynamic : {}'.format(is_standard_error))"
   ]
  }
 ],
 "metadata": {
  "kernelspec": {
   "display_name": "Python 3",
   "language": "python",
   "name": "python3"
  },
  "language_info": {
   "codemirror_mode": {
    "name": "ipython",
    "version": 3
   },
   "file_extension": ".py",
   "mimetype": "text/x-python",
   "name": "python",
   "nbconvert_exporter": "python",
   "pygments_lexer": "ipython3",
   "version": "3.7.4"
  }
 },
 "nbformat": 4,
 "nbformat_minor": 4
}
